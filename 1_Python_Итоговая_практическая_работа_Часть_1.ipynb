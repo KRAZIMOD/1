{
  "nbformat": 4,
  "nbformat_minor": 0,
  "metadata": {
    "colab": {
      "provenance": []
    },
    "kernelspec": {
      "name": "python3",
      "display_name": "Python 3"
    },
    "language_info": {
      "name": "python"
    }
  },
  "cells": [
    {
      "cell_type": "markdown",
      "source": [
        "# Python. Итоговая практическая работа. Часть 1"
      ],
      "metadata": {
        "id": "0A55oUqUufrq"
      }
    },
    {
      "cell_type": "markdown",
      "source": [
        "## Задание №1. Написать функцию для перевода градусов, минут, секунд в десятичные градусы (*gms_to_deg*):"
      ],
      "metadata": {
        "id": "A5qFgS8wpsiy"
      }
    },
    {
      "cell_type": "code",
      "source": [
        "def gms_to_deg(g: int = None, m: int = None, s: float = None) -> float:\n",
        "  '''\n",
        "  Функция принимает на вход градусы, минуты, секунды и возвращает десятичные градусы (deg)\n",
        "  :param g: Градусы в целочисленном представлении\n",
        "  :param : Минуты в целочисленном представлении\n",
        "  :param deg: Секунды в вещественном представлении\n",
        "  :return: Десятичные градусы\n",
        "  '''\n",
        "\n",
        "  # В этом коде используется конструкция try-except для обработки возможных\n",
        "  # исключений при выполнении кода если внутри блока try произойдет ошибка,\n",
        "  # то выполняется код блока except\n",
        "  try:\n",
        "    # расчет десятичных градусов\n",
        "    # переменной deg присваивается результат вычисления\n",
        "    deg: float = int(g) + int(m) / 60 + float(s) / 3600\n",
        "  except:\n",
        "    # если произошло исключение (ошибка), то возвращается значение None\n",
        "    return None\n",
        "\n",
        "  # если ошибок не произошло, то возвращается значение deg\n",
        "  return deg"
      ],
      "metadata": {
        "id": "HPuO6zu_yJgu"
      },
      "execution_count": 2,
      "outputs": []
    },
    {
      "cell_type": "markdown",
      "source": [
        "## Задание №2. Написать функцию для перевода десятичных градусов в градусы, минуты, секунды (*deg_to_gms*):\n",
        "\n"
      ],
      "metadata": {
        "id": "ltUqdXog0xZO"
      }
    },
    {
      "cell_type": "markdown",
      "source": [
        "Задание №2.1. Прокомментируйте каждую строчку кода, добавьте аннотацию типов (прим. a:str, num:int) и строки документации (многострочный комментарий сразу после объявления функции) - **по аналогии с примером выше.**\n",
        "\n",
        "Задание №2.2. Добавьте обработку исключительных ситуаций (try - except) - **по аналогии с примероми выше.**"
      ],
      "metadata": {
        "id": "sPsxK5l97j5X"
      }
    },
    {
      "cell_type": "code",
      "source": [
        "def deg_to_gms(deg: float = None) -> tuple:\n",
        "    '''\n",
        "    Функция принимает на вход десятичные градусы и возвращает градусы, минуты, секунды\n",
        "    :param deg: Десятичные градусы в вещественном представлении\n",
        "    :return: Кортеж (градусы, минуты, секунды)\n",
        "    '''\n",
        "    try:\n",
        "        # расчет градусов, минут и секунд\n",
        "        g = int(deg)  # целая часть - градусы\n",
        "        m_dec = (deg - g) * 60  # дробная часть, переведенная в минуты\n",
        "        m = int(m_dec)  # целая часть минут\n",
        "        s = (m_dec - m) * 60  # дробная часть минут, переведенная в секунды\n",
        "        return g, m, s\n",
        "    except:\n",
        "        # если произошло исключение (ошибка), то возвращается значение None\n",
        "        return None\n",
        "\n",
        "    # если ошибок не произошло, то возвращается значение (g, m, s)\n",
        "    return g, m, s"
      ],
      "metadata": {
        "id": "ryjg5CtB0xqq"
      },
      "execution_count": 3,
      "outputs": []
    },
    {
      "cell_type": "markdown",
      "source": [
        "## Задание №3. Написать функцию для определения четверти по знакам прирощения (*get_quarter*)"
      ],
      "metadata": {
        "id": "EM6ejRK_4xmq"
      }
    },
    {
      "cell_type": "markdown",
      "source": [
        "Задание №3.1. Прокомментируйте каждую строчку кода, добавьте аннотацию типов (прим. a:str, num:int) и строки документации (многострочный комментарий сразу после объявления функции) - **по аналогии с примером выше.**\n",
        "\n",
        "Задание №3.2. Добавьте обработку исключительных ситуаций (try - except) - **по аналогии с примероми выше.**"
      ],
      "metadata": {
        "id": "fGIa1azcCbdx"
      }
    },
    {
      "cell_type": "code",
      "source": [
        "def get_quarter(dx: float = None, dy: float = None, r: float = None) -> int:\n",
        "    '''\n",
        "    Функция определяет четверть по знакам приращения координат\n",
        "    :param dx: Приращение по оси X в вещественном представлении\n",
        "    :param dy: Приращение по оси Y в вещественном представлении\n",
        "    :param r: Расстояние в вещественном представлении (необязательный параметр)\n",
        "    :return: Номер четверти (1, 2, 3 или 4)\n",
        "    '''\n",
        "    try:\n",
        "        # определение четверти по знакам приращений\n",
        "        if dx > 0 and dy > 0:\n",
        "            q = 1  # первая четверть\n",
        "        elif dx < 0 and dy > 0:\n",
        "            q = 2  # вторая четверть\n",
        "        elif dx < 0 and dy < 0:\n",
        "            q = 3  # третья четверть\n",
        "        elif dx > 0 and dy < 0:\n",
        "            q = 4  # четвертая четверть\n",
        "        else:\n",
        "            q = 0  # точка лежит на оси\n",
        "        return q\n",
        "    except:\n",
        "        # если произошло исключение (ошибка), то возвращается значение None\n",
        "        return None\n",
        "\n",
        "    # если ошибок не произошло, то возвращается значение q\n",
        "    return q"
      ],
      "metadata": {
        "id": "3TlK86TD4xIB"
      },
      "execution_count": 4,
      "outputs": []
    },
    {
      "cell_type": "markdown",
      "source": [
        "## Задание №4. Написать функцию для решения прямой геодезическая задачи (*direct_task*)"
      ],
      "metadata": {
        "id": "IBNlQCeUABxb"
      }
    },
    {
      "cell_type": "markdown",
      "source": [
        "Задание №4.1. Прокомментируйте каждую строчку кода, добавьте аннотацию типов (прим. a:str, num:int) и строки документации (многострочный комментарий сразу после объявления функции) - **по аналогии с примерами выше.**"
      ],
      "metadata": {
        "id": "vgjEImPI8bD2"
      }
    },
    {
      "cell_type": "code",
      "source": [
        "import math\n",
        "\n",
        "def direct_task(X: float, Y: float, d: float, alpha: float) -> tuple:\n",
        "    '''\n",
        "    Функция решает прямую геодезическую задачу\n",
        "    :param X: Координата X начальной точки в вещественном представлении\n",
        "    :param Y: Координата Y начальной точки в вещественном представлении\n",
        "    :param d: Расстояние в вещественном представлении\n",
        "    :param alpha: Дирекционный угол в градусах в вещественном представлении\n",
        "    :return: Кортеж с координатами конечной точки (X2, Y2)\n",
        "    '''\n",
        "    try:\n",
        "        # перевод угла из градусов в радианы\n",
        "        alpha_rad = math.radians(alpha)\n",
        "\n",
        "        # вычисление приращений координат\n",
        "        dX = d * math.cos(alpha_rad)\n",
        "        dY = d * math.sin(alpha_rad)\n",
        "\n",
        "        # вычисление координат конечной точки\n",
        "        X2 = X + dX\n",
        "        Y2 = Y + dY\n",
        "\n",
        "        return X2, Y2\n",
        "    except:\n",
        "        # если произошло исключение (ошибка), то возвращается значение None\n",
        "        return None\n",
        "\n",
        "    # если ошибок не произошло, то возвращается значение (X2, Y2)\n",
        "    return X2, Y2\n"
      ],
      "metadata": {
        "id": "yjF2m7QO7SGz"
      },
      "execution_count": 5,
      "outputs": []
    },
    {
      "cell_type": "markdown",
      "source": [
        "## Задание №5. Написать функцию для решения обратной геодезическая задачи (*reverse_task*)"
      ],
      "metadata": {
        "id": "0Tt_ZC6YAFjD"
      }
    },
    {
      "cell_type": "markdown",
      "source": [
        "Задание №5.1. Прокомментируйте каждую строчку кода, добавьте аннотацию типов (прим. a:str, num:int) и строки документации (многострочный комментарий сразу после объявления функции) - **по аналогии с примерами выше.**\n",
        "\n",
        "Задание №5.2. Добавьте обработку исключительных ситуаций (try - except) - **по аналогии с примерами выше и ниже.**"
      ],
      "metadata": {
        "id": "HmD5F21r8hM0"
      }
    },
    {
      "cell_type": "code",
      "source": [
        "def reverse_task(xa: float, ya: float, xb: float, yb: float) -> tuple:\n",
        "    \"\"\"\n",
        "    Решает обратную геодезическую задачу, вычисляя расстояние и дирекционный угол между двумя точками.\n",
        "\n",
        "    Функция принимает координаты двух точек (xa, ya) и (xb, yb) и возвращает кортеж,\n",
        "    содержащий расстояние между точками и дирекционный угол в градусах.\n",
        "\n",
        "    Args:\n",
        "        xa (float): X-координата первой точки\n",
        "        ya (float): Y-координата первой точки\n",
        "        xb (float): X-координата второй точки\n",
        "        yb (float): Y-координата второй точки\n",
        "\n",
        "    Returns:\n",
        "        tuple: Кортеж (расстояние, дирекционный угол в градусах)\n",
        "\n",
        "    Raises:\n",
        "        ValueError: Если входные данные некорректны\n",
        "        ZeroDivisionError: Если точки совпадают (расстояние равно нулю)\n",
        "    \"\"\"\n",
        "    try:\n",
        "        # Проверка входных данных\n",
        "        if not all(isinstance(coord, (int, float)) for coord in [xa, ya, xb, yb]):\n",
        "            raise ValueError(\"Все координаты должны быть числами\")\n",
        "\n",
        "        # Вычисляем разницы координат\n",
        "        dx = xb - xa\n",
        "        dy = yb - ya\n",
        "\n",
        "        # Вычисляем расстояние между точками\n",
        "        distance = (dx**2 + dy**2)**0.5\n",
        "\n",
        "        # Проверка на совпадение точек\n",
        "        if distance == 0:\n",
        "            raise ZeroDivisionError(\"Точки совпадают, невозможно вычислить дирекционный угол\")\n",
        "\n",
        "        # Вычисляем дирекционный угол в радианах, затем переводим в градусы\n",
        "        import math\n",
        "        angle_rad = math.atan2(dy, dx)\n",
        "        angle_deg = math.degrees(angle_rad)\n",
        "\n",
        "        # Приводим угол к положительному значению (0-360°)\n",
        "        if angle_deg < 0:\n",
        "            angle_deg += 360\n",
        "\n",
        "        return distance, angle_deg\n",
        "\n",
        "    except Exception as e:\n",
        "        # Обработка любых других исключений\n",
        "        raise ValueError(f\"Ошибка при вычислении: {str(e)}\")"
      ],
      "metadata": {
        "id": "AJy2uc8F8NGc"
      },
      "execution_count": null,
      "outputs": []
    },
    {
      "cell_type": "markdown",
      "source": [
        "## 6. Протестируйте написанные функции"
      ],
      "metadata": {
        "id": "G3tNaw03AUtw"
      }
    },
    {
      "cell_type": "markdown",
      "source": [
        "### Позитивные тесты"
      ],
      "metadata": {
        "id": "9xxCEl1g8zf3"
      }
    },
    {
      "cell_type": "code",
      "source": [
        "print(gms_to_deg(36,58,12))\n",
        "print(deg_to_gms(36.97))\n",
        "print(get_quarter(52,140))\n",
        "print(get_quarter(52,140, 145.456))\n",
        "print(direct_task(25, 140, 124, gms_to_deg(217,14,23)))"
      ],
      "metadata": {
        "colab": {
          "base_uri": "https://localhost:8080/"
        },
        "id": "u0zx8KNw8eaU",
        "outputId": "0f001027-ec9a-4324-84f1-adb8bb419aac"
      },
      "execution_count": 7,
      "outputs": [
        {
          "output_type": "stream",
          "name": "stdout",
          "text": [
            "36.97\n",
            "(36, 58, 11.999999999995907)\n",
            "1\n",
            "1\n",
            "(-73.7177104327118, 64.96125236304071)\n"
          ]
        }
      ]
    },
    {
      "cell_type": "markdown",
      "source": [
        "Задание №6.1. добавьте позитивные тесты функции reverse_task - **по аналогии с примерами.**"
      ],
      "metadata": {
        "id": "iJaB8eDi-xYm"
      }
    },
    {
      "cell_type": "code",
      "source": [
        "print(reverse_task(0, 0, 3, 4))\n",
        "print(reverse_task(10, 10, 13, 14))\n",
        "print(reverse_task(-5, -5, -2, -1))\n",
        "print(reverse_task(100, 200, 300, 400))"
      ],
      "metadata": {
        "id": "B9_uegsD_LZx",
        "outputId": "7ebf4205-dcba-45d2-8f89-866e9895eaf6",
        "colab": {
          "base_uri": "https://localhost:8080/",
          "height": 193
        }
      },
      "execution_count": 17,
      "outputs": [
        {
          "output_type": "error",
          "ename": "NameError",
          "evalue": "name 'reverse_task' is not defined",
          "traceback": [
            "\u001b[0;31m---------------------------------------------------------------------------\u001b[0m",
            "\u001b[0;31mNameError\u001b[0m                                 Traceback (most recent call last)",
            "\u001b[0;32m<ipython-input-17-db6b8758a0a8>\u001b[0m in \u001b[0;36m<cell line: 0>\u001b[0;34m()\u001b[0m\n\u001b[0;32m----> 1\u001b[0;31m \u001b[0mprint\u001b[0m\u001b[0;34m(\u001b[0m\u001b[0mreverse_task\u001b[0m\u001b[0;34m(\u001b[0m\u001b[0;36m0\u001b[0m\u001b[0;34m,\u001b[0m \u001b[0;36m0\u001b[0m\u001b[0;34m,\u001b[0m \u001b[0;36m3\u001b[0m\u001b[0;34m,\u001b[0m \u001b[0;36m4\u001b[0m\u001b[0;34m)\u001b[0m\u001b[0;34m)\u001b[0m\u001b[0;34m\u001b[0m\u001b[0;34m\u001b[0m\u001b[0m\n\u001b[0m\u001b[1;32m      2\u001b[0m \u001b[0mprint\u001b[0m\u001b[0;34m(\u001b[0m\u001b[0mreverse_task\u001b[0m\u001b[0;34m(\u001b[0m\u001b[0;36m10\u001b[0m\u001b[0;34m,\u001b[0m \u001b[0;36m10\u001b[0m\u001b[0;34m,\u001b[0m \u001b[0;36m13\u001b[0m\u001b[0;34m,\u001b[0m \u001b[0;36m14\u001b[0m\u001b[0;34m)\u001b[0m\u001b[0;34m)\u001b[0m\u001b[0;34m\u001b[0m\u001b[0;34m\u001b[0m\u001b[0m\n\u001b[1;32m      3\u001b[0m \u001b[0mprint\u001b[0m\u001b[0;34m(\u001b[0m\u001b[0mreverse_task\u001b[0m\u001b[0;34m(\u001b[0m\u001b[0;34m-\u001b[0m\u001b[0;36m5\u001b[0m\u001b[0;34m,\u001b[0m \u001b[0;34m-\u001b[0m\u001b[0;36m5\u001b[0m\u001b[0;34m,\u001b[0m \u001b[0;34m-\u001b[0m\u001b[0;36m2\u001b[0m\u001b[0;34m,\u001b[0m \u001b[0;34m-\u001b[0m\u001b[0;36m1\u001b[0m\u001b[0;34m)\u001b[0m\u001b[0;34m)\u001b[0m\u001b[0;34m\u001b[0m\u001b[0;34m\u001b[0m\u001b[0m\n\u001b[1;32m      4\u001b[0m \u001b[0mprint\u001b[0m\u001b[0;34m(\u001b[0m\u001b[0mreverse_task\u001b[0m\u001b[0;34m(\u001b[0m\u001b[0;36m100\u001b[0m\u001b[0;34m,\u001b[0m \u001b[0;36m200\u001b[0m\u001b[0;34m,\u001b[0m \u001b[0;36m300\u001b[0m\u001b[0;34m,\u001b[0m \u001b[0;36m400\u001b[0m\u001b[0;34m)\u001b[0m\u001b[0;34m)\u001b[0m\u001b[0;34m\u001b[0m\u001b[0;34m\u001b[0m\u001b[0m\n",
            "\u001b[0;31mNameError\u001b[0m: name 'reverse_task' is not defined"
          ]
        }
      ]
    },
    {
      "cell_type": "markdown",
      "source": [
        "### Негативные тесты"
      ],
      "metadata": {
        "id": "KNV9bQwk89B_"
      }
    },
    {
      "cell_type": "code",
      "source": [
        "print(gms_to_deg(36,'58'))\n",
        "print(get_quarter(52))\n",
        "print(get_quarter(52,[1,2], 145.456))\n",
        "print(direct_task(25, 140, gms_to_deg(124), gms_to_deg(217,14,23)))\n",
        "\n",
        "print(deg_to_gms('36,97')) # Если не добавлена обработка исключений в функцию\n",
        "              # deg_to_gms, то вызовет ошибку и экстренное завершение программы"
      ],
      "metadata": {
        "id": "CS2i5pND881A",
        "outputId": "8440db2b-dc84-4892-c35c-b315e71af126",
        "colab": {
          "base_uri": "https://localhost:8080/"
        }
      },
      "execution_count": 8,
      "outputs": [
        {
          "output_type": "stream",
          "name": "stdout",
          "text": [
            "None\n",
            "None\n",
            "None\n",
            "None\n",
            "None\n"
          ]
        }
      ]
    },
    {
      "cell_type": "markdown",
      "source": [
        "Задание №6.1. добавьте негативные тесты функции reverse_task - **по аналогии с примерами.**"
      ],
      "metadata": {
        "id": "yQpZ7K81_Ayi"
      }
    },
    {
      "cell_type": "code",
      "source": [
        "print(reverse_task(0, 0, 0, 0))\n",
        "print(reverse_task(\"a\", 0, 1, 1))\n",
        "print(reverse_task(None, 0, 1, 1))"
      ],
      "metadata": {
        "id": "TrPyNgT-_GPd",
        "outputId": "0e658e9c-051e-40ac-dece-c6de6501a209",
        "colab": {
          "base_uri": "https://localhost:8080/",
          "height": 176
        }
      },
      "execution_count": 15,
      "outputs": [
        {
          "output_type": "error",
          "ename": "NameError",
          "evalue": "name 'reverse_task' is not defined",
          "traceback": [
            "\u001b[0;31m---------------------------------------------------------------------------\u001b[0m",
            "\u001b[0;31mNameError\u001b[0m                                 Traceback (most recent call last)",
            "\u001b[0;32m<ipython-input-15-38a1e8339501>\u001b[0m in \u001b[0;36m<cell line: 0>\u001b[0;34m()\u001b[0m\n\u001b[0;32m----> 1\u001b[0;31m \u001b[0mprint\u001b[0m\u001b[0;34m(\u001b[0m\u001b[0mreverse_task\u001b[0m\u001b[0;34m(\u001b[0m\u001b[0;36m0\u001b[0m\u001b[0;34m,\u001b[0m \u001b[0;36m0\u001b[0m\u001b[0;34m,\u001b[0m \u001b[0;36m0\u001b[0m\u001b[0;34m,\u001b[0m \u001b[0;36m0\u001b[0m\u001b[0;34m)\u001b[0m\u001b[0;34m)\u001b[0m\u001b[0;34m\u001b[0m\u001b[0;34m\u001b[0m\u001b[0m\n\u001b[0m\u001b[1;32m      2\u001b[0m \u001b[0mprint\u001b[0m\u001b[0;34m(\u001b[0m\u001b[0mreverse_task\u001b[0m\u001b[0;34m(\u001b[0m\u001b[0;34m\"a\"\u001b[0m\u001b[0;34m,\u001b[0m \u001b[0;36m0\u001b[0m\u001b[0;34m,\u001b[0m \u001b[0;36m1\u001b[0m\u001b[0;34m,\u001b[0m \u001b[0;36m1\u001b[0m\u001b[0;34m)\u001b[0m\u001b[0;34m)\u001b[0m\u001b[0;34m\u001b[0m\u001b[0;34m\u001b[0m\u001b[0m\n\u001b[1;32m      3\u001b[0m \u001b[0mprint\u001b[0m\u001b[0;34m(\u001b[0m\u001b[0mreverse_task\u001b[0m\u001b[0;34m(\u001b[0m\u001b[0;32mNone\u001b[0m\u001b[0;34m,\u001b[0m \u001b[0;36m0\u001b[0m\u001b[0;34m,\u001b[0m \u001b[0;36m1\u001b[0m\u001b[0;34m,\u001b[0m \u001b[0;36m1\u001b[0m\u001b[0;34m)\u001b[0m\u001b[0;34m)\u001b[0m\u001b[0;34m\u001b[0m\u001b[0;34m\u001b[0m\u001b[0m\n",
            "\u001b[0;31mNameError\u001b[0m: name 'reverse_task' is not defined"
          ]
        }
      ]
    }
  ]
}